{
 "cells": [
  {
   "cell_type": "code",
   "execution_count": 1,
   "metadata": {},
   "outputs": [],
   "source": [
    "import matplotlib\n",
    "import matplotlib.pyplot as plt\n",
    "import numpy as np\n",
    "import pandas as pd\n",
    "from scipy.integrate import quad\n",
    "import scipy.special as sc\n",
    "from scipy.integrate import odeint\n",
    "import utility as psu\n",
    "import scipy.integrate as integ\n",
    "from scipy.optimize import curve_fit\n",
    "from scipy import stats\n",
    "import time\n",
    "from matplotlib.colors import LogNorm\n",
    "from numpy.random import randn\n",
    "import matplotlib.colors as colors\n",
    "import matplotlib.cbook as cbook\n",
    "from matplotlib import cm\n",
    "import os\n",
    "import process_abalone_utility as pau"
   ]
  },
  {
   "cell_type": "code",
   "execution_count": null,
   "metadata": {
    "scrolled": false
   },
   "outputs": [
    {
     "name": "stdout",
     "output_type": "stream",
     "text": [
      "/data/abalone/ABALONE_RampingUp/2021_08_03_T1026_ABALONE_15kV_SiPM2_32V_LED300V.dat Number of events 594924.0\n",
      "Total events number: 594924\n",
      "event n. 0 time to process: 0.00\n",
      "event n. 100000 time to process: 11.27\n"
     ]
    }
   ],
   "source": [
    "file_LED = '/data/abalone/ABALONE_RampingUp/2021_08_03_T1026_ABALONE_15kV_SiPM2_32V_LED300V.dat'\n",
    "dataLED = pau.process_abalone_data(filename=file_LED,nn=0,nplot=10,w=10)"
   ]
  },
  {
   "cell_type": "code",
   "execution_count": null,
   "metadata": {
    "scrolled": true
   },
   "outputs": [],
   "source": [
    "pau.plot_data(data=dataLED,fvolt=15,low=-1, high=4,low_max=0.5,high_max=4,low_en=1, high_en=100,\n",
    "              low_fom=0.6,high_fom=1,high_rt=30)"
   ]
  },
  {
   "cell_type": "code",
   "execution_count": null,
   "metadata": {
    "scrolled": true
   },
   "outputs": [],
   "source": [
    "new_data, new_wf = pau.select_data(dataLED,filename=file_LED,fvolt=15,entr_cut=200,\n",
    "                                  max_cut=1,area_cut=(0,1e7), pos_cut=(500,550),rt_cut=0,events=20)"
   ]
  },
  {
   "cell_type": "code",
   "execution_count": null,
   "metadata": {
    "scrolled": true
   },
   "outputs": [],
   "source": [
    "pau.plot_data(data=new_data,fvolt=15,low=0.1, high=3,low_max=0.5,high_max=4,low_en=2, high_en=5,\n",
    "          low_fom=0.75,high_fom=1)"
   ]
  },
  {
   "cell_type": "code",
   "execution_count": null,
   "metadata": {},
   "outputs": [],
   "source": [
    "wf2 = new_wf[(new_data['area']>50)&(new_data['area']<70)]\n",
    "psu.plot_waveforms( wf2,events=20,tlim=(4.5,7.5))"
   ]
  },
  {
   "cell_type": "code",
   "execution_count": null,
   "metadata": {},
   "outputs": [],
   "source": [
    "popt = pau.fit_pe_spectrum(new_data['area'], volts = 15, low = 0, high = 120, bins = 400, fit_range=(20,100))"
   ]
  },
  {
   "cell_type": "code",
   "execution_count": 35,
   "metadata": {},
   "outputs": [
    {
     "data": {
      "text/plain": [
       "37.442850773976964"
      ]
     },
     "execution_count": 35,
     "metadata": {},
     "output_type": "execute_result"
    }
   ],
   "source": [
    "popt[1]/1.113"
   ]
  },
  {
   "cell_type": "code",
   "execution_count": 9,
   "metadata": {
    "scrolled": true
   },
   "outputs": [
    {
     "name": "stdout",
     "output_type": "stream",
     "text": [
      "Total events: 167050\n",
      "event n. 0 area: 6.29, time to process: 0.00\n",
      "event n. 1000 area: 59.20, time to process: 6.02\n",
      "event n. 2000 area: 39.07, time to process: 12.04\n",
      "event n. 3000 area: 64.11, time to process: 17.89\n",
      "event n. 4000 area: 5.33, time to process: 23.79\n",
      "event n. 5000 area: 95.58, time to process: 29.66\n",
      "event n. 6000 area: 61.35, time to process: 35.69\n",
      "event n. 7000 area: 67.83, time to process: 41.80\n",
      "event n. 8000 area: 48.59, time to process: 47.65\n",
      "event n. 9000 area: 45.51, time to process: 53.89\n",
      "event n. 10000 area: 33.00, time to process: 60.00\n",
      "event n. 11000 area: 62.05, time to process: 65.94\n",
      "event n. 12000 area: 71.65, time to process: 71.77\n",
      "event n. 13000 area: 76.30, time to process: 77.76\n",
      "event n. 14000 area: 127.12, time to process: 83.64\n",
      "event n. 15000 area: 82.61, time to process: 89.49\n",
      "event n. 16000 area: 83.91, time to process: 95.41\n",
      "event n. 17000 area: 50.73, time to process: 101.51\n",
      "event n. 18000 area: 12.22, time to process: 107.53\n",
      "event n. 19000 area: 45.51, time to process: 113.53\n",
      "event n. 20000 area: 57.13, time to process: 119.59\n",
      "event n. 21000 area: 89.62, time to process: 125.44\n",
      "event n. 22000 area: 48.21, time to process: 131.48\n",
      "event n. 23000 area: 67.12, time to process: 137.42\n",
      "event n. 24000 area: 143.93, time to process: 143.51\n",
      "event n. 25000 area: 4.58, time to process: 149.50\n",
      "event n. 26000 area: 155.17, time to process: 155.42\n",
      "event n. 27000 area: 11.87, time to process: 161.34\n",
      "event n. 28000 area: 48.03, time to process: 167.53\n",
      "event n. 29000 area: 44.28, time to process: 173.32\n",
      "event n. 30000 area: 52.35, time to process: 179.17\n",
      "event n. 31000 area: 60.45, time to process: 184.99\n",
      "event n. 32000 area: 42.68, time to process: 190.97\n",
      "event n. 33000 area: 25.21, time to process: 196.89\n",
      "event n. 34000 area: 30.28, time to process: 203.04\n",
      "event n. 35000 area: 62.64, time to process: 209.03\n",
      "event n. 36000 area: 73.91, time to process: 214.93\n",
      "event n. 37000 area: 30.48, time to process: 221.00\n",
      "event n. 38000 area: 7.40, time to process: 227.12\n",
      "event n. 39000 area: 30.83, time to process: 233.09\n",
      "event n. 40000 area: 63.37, time to process: 239.09\n",
      "event n. 41000 area: 59.14, time to process: 245.08\n",
      "event n. 42000 area: 120.14, time to process: 251.19\n",
      "event n. 43000 area: 51.82, time to process: 257.18\n",
      "event n. 44000 area: 71.95, time to process: 263.29\n",
      "event n. 45000 area: 77.06, time to process: 269.27\n",
      "event n. 46000 area: 96.40, time to process: 275.33\n",
      "event n. 47000 area: 49.16, time to process: 281.32\n",
      "event n. 48000 area: 101.86, time to process: 287.45\n",
      "event n. 49000 area: 134.38, time to process: 293.60\n",
      "event n. 50000 area: 57.55, time to process: 299.69\n",
      "event n. 51000 area: 50.73, time to process: 305.60\n",
      "event n. 52000 area: 49.77, time to process: 311.59\n",
      "event n. 53000 area: 72.12, time to process: 317.41\n",
      "event n. 54000 area: 7.20, time to process: 323.43\n",
      "event n. 55000 area: 11.46, time to process: 329.34\n",
      "event n. 56000 area: 51.08, time to process: 335.35\n",
      "event n. 57000 area: 63.39, time to process: 341.35\n",
      "event n. 58000 area: 45.74, time to process: 347.51\n",
      "event n. 59000 area: 55.69, time to process: 353.55\n",
      "event n. 60000 area: 24.34, time to process: 359.52\n",
      "event n. 61000 area: 62.10, time to process: 365.48\n",
      "event n. 62000 area: 48.53, time to process: 371.44\n",
      "event n. 63000 area: 48.38, time to process: 377.39\n",
      "event n. 64000 area: 48.48, time to process: 383.23\n",
      "event n. 65000 area: 71.96, time to process: 389.20\n",
      "event n. 66000 area: 52.23, time to process: 395.31\n",
      "event n. 67000 area: 83.56, time to process: 401.33\n",
      "event n. 68000 area: 13.20, time to process: 407.34\n",
      "event n. 69000 area: 112.23, time to process: 413.63\n",
      "event n. 70000 area: 74.63, time to process: 419.62\n",
      "event n. 71000 area: 38.79, time to process: 425.54\n",
      "event n. 72000 area: 61.68, time to process: 431.61\n",
      "event n. 73000 area: 120.59, time to process: 437.57\n",
      "event n. 74000 area: 85.12, time to process: 443.75\n",
      "event n. 75000 area: 88.59, time to process: 449.72\n",
      "event n. 76000 area: 5.14, time to process: 455.53\n",
      "event n. 77000 area: 58.13, time to process: 461.47\n",
      "event n. 78000 area: 32.89, time to process: 467.33\n",
      "event n. 79000 area: 44.24, time to process: 473.36\n",
      "event n. 80000 area: 52.29, time to process: 479.30\n",
      "event n. 81000 area: 70.31, time to process: 485.27\n",
      "event n. 82000 area: 50.77, time to process: 491.41\n",
      "event n. 83000 area: 58.77, time to process: 497.37\n",
      "event n. 84000 area: 57.25, time to process: 503.40\n",
      "event n. 85000 area: 140.27, time to process: 509.36\n",
      "event n. 86000 area: 10.91, time to process: 515.53\n",
      "event n. 87000 area: 58.02, time to process: 521.56\n",
      "event n. 88000 area: 60.94, time to process: 527.52\n",
      "event n. 89000 area: 8.38, time to process: 533.52\n",
      "event n. 90000 area: 65.93, time to process: 539.39\n",
      "event n. 91000 area: 43.42, time to process: 545.45\n",
      "event n. 92000 area: 45.77, time to process: 551.25\n",
      "event n. 93000 area: 72.40, time to process: 557.26\n",
      "event n. 94000 area: 71.30, time to process: 563.14\n",
      "event n. 95000 area: 7.67, time to process: 569.17\n",
      "event n. 96000 area: 53.27, time to process: 575.11\n",
      "event n. 97000 area: 54.93, time to process: 581.04\n",
      "event n. 98000 area: 52.21, time to process: 587.33\n",
      "event n. 99000 area: 23.66, time to process: 593.29\n",
      "event n. 100000 area: 69.97, time to process: 599.47\n",
      "event n. 101000 area: 66.40, time to process: 605.38\n",
      "event n. 102000 area: 33.28, time to process: 611.30\n",
      "event n. 103000 area: 15.47, time to process: 617.34\n",
      "event n. 104000 area: 61.41, time to process: 623.40\n",
      "event n. 105000 area: 36.99, time to process: 629.31\n",
      "event n. 106000 area: 59.71, time to process: 635.42\n",
      "event n. 107000 area: 95.72, time to process: 641.49\n",
      "event n. 108000 area: 72.65, time to process: 647.44\n",
      "event n. 109000 area: 60.77, time to process: 653.51\n",
      "event n. 110000 area: 29.17, time to process: 659.37\n",
      "event n. 111000 area: 47.79, time to process: 665.21\n",
      "event n. 112000 area: 120.37, time to process: 671.19\n",
      "event n. 113000 area: 17.88, time to process: 677.15\n",
      "event n. 114000 area: 17.42, time to process: 683.00\n",
      "event n. 115000 area: 71.36, time to process: 688.87\n",
      "event n. 116000 area: 65.25, time to process: 694.79\n",
      "event n. 117000 area: 57.31, time to process: 700.79\n",
      "event n. 118000 area: 59.40, time to process: 706.67\n",
      "event n. 119000 area: 47.67, time to process: 712.62\n",
      "event n. 120000 area: 95.11, time to process: 718.82\n",
      "event n. 121000 area: 167.15, time to process: 724.85\n",
      "event n. 122000 area: 75.26, time to process: 730.37\n",
      "event n. 123000 area: 52.19, time to process: 736.04\n",
      "event n. 124000 area: 110.52, time to process: 741.61\n",
      "event n. 125000 area: 2.90, time to process: 747.38\n",
      "event n. 126000 area: 130.27, time to process: 753.06\n",
      "event n. 127000 area: 3.51, time to process: 758.87\n",
      "event n. 128000 area: 56.29, time to process: 764.48\n",
      "event n. 129000 area: 58.56, time to process: 770.15\n",
      "event n. 130000 area: 61.18, time to process: 775.73\n",
      "event n. 131000 area: 34.93, time to process: 781.53\n",
      "event n. 132000 area: 84.32, time to process: 787.12\n",
      "event n. 133000 area: 5.89, time to process: 792.67\n",
      "event n. 134000 area: 64.18, time to process: 798.29\n",
      "event n. 135000 area: 39.82, time to process: 803.85\n",
      "event n. 136000 area: 25.56, time to process: 809.56\n",
      "event n. 137000 area: 83.33, time to process: 815.19\n",
      "event n. 138000 area: 48.72, time to process: 820.79\n",
      "event n. 139000 area: 93.13, time to process: 826.34\n",
      "event n. 140000 area: 86.97, time to process: 831.85\n",
      "event n. 141000 area: 74.09, time to process: 837.38\n",
      "event n. 142000 area: 68.16, time to process: 842.89\n",
      "event n. 143000 area: 58.68, time to process: 848.47\n",
      "event n. 144000 area: 40.62, time to process: 854.27\n",
      "event n. 145000 area: 18.42, time to process: 859.84\n",
      "event n. 146000 area: 100.85, time to process: 865.30\n",
      "event n. 147000 area: 33.67, time to process: 871.02\n",
      "event n. 148000 area: 4.31, time to process: 876.75\n",
      "event n. 149000 area: 61.04, time to process: 882.37\n",
      "event n. 150000 area: 22.04, time to process: 888.01\n",
      "event n. 151000 area: 48.98, time to process: 893.64\n",
      "event n. 152000 area: 145.12, time to process: 899.18\n",
      "event n. 153000 area: 43.48, time to process: 904.75\n",
      "event n. 154000 area: 36.25, time to process: 910.35\n",
      "event n. 155000 area: 8.88, time to process: 915.92\n",
      "event n. 156000 area: 68.80, time to process: 921.51\n"
     ]
    },
    {
     "name": "stdout",
     "output_type": "stream",
     "text": [
      "event n. 157000 area: 43.74, time to process: 927.10\n",
      "event n. 158000 area: 66.22, time to process: 932.66\n",
      "event n. 159000 area: 69.62, time to process: 938.08\n",
      "event n. 160000 area: 45.58, time to process: 943.57\n",
      "event n. 161000 area: 57.63, time to process: 949.22\n",
      "event n. 162000 area: 57.36, time to process: 954.90\n",
      "event n. 163000 area: 180.26, time to process: 960.34\n",
      "event n. 164000 area: 56.93, time to process: 965.96\n",
      "event n. 165000 area: 44.83, time to process: 971.46\n",
      "event n. 166000 area: 30.30, time to process: 976.88\n",
      "event n. 167000 area: 95.28, time to process: 982.52\n"
     ]
    }
   ],
   "source": [
    "#peakint = np.load('processed_data/peakint_ABALONE_20kV_SiPM2_32V.npy')\n",
    "peakint = pau.calculate_integrals( new_wf, nn = 0, volts = 20, sipmv = 32, plot = 0, save = 1 )"
   ]
  },
  {
   "cell_type": "code",
   "execution_count": 10,
   "metadata": {},
   "outputs": [
    {
     "data": {
      "image/png": "[encoded data removed]",
      "text/plain": [
       "<Figure size 864x432 with 1 Axes>"
      ]
     },
     "metadata": {
      "needs_background": "light"
     },
     "output_type": "display_data"
    }
   ],
   "source": [
    "popt = pau.fit_pe_spectrum(peakint, volts = 20, low = 0, high = 180, bins = 300, fit_range=(30,170))"
   ]
  },
  {
   "cell_type": "code",
   "execution_count": 11,
   "metadata": {},
   "outputs": [
    {
     "data": {
      "text/plain": [
       "50.23418376329527"
      ]
     },
     "execution_count": 11,
     "metadata": {},
     "output_type": "execute_result"
    }
   ],
   "source": [
    "popt[1]/1.113"
   ]
  },
  {
   "cell_type": "code",
   "execution_count": null,
   "metadata": {},
   "outputs": [],
   "source": []
  }
 ],
 "metadata": {
  "kernelspec": {
   "display_name": "Python 3",
   "language": "python",
   "name": "python3"
  },
  "language_info": {
   "codemirror_mode": {
    "name": "ipython",
    "version": 3
   },
   "file_extension": ".py",
   "mimetype": "text/x-python",
   "name": "python",
   "nbconvert_exporter": "python",
   "pygments_lexer": "ipython3",
   "version": "3.7.3"
  }
 },
 "nbformat": 4,
 "nbformat_minor": 2
}
